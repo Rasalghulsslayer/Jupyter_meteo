{
 "cells": [
  {
   "cell_type": "markdown",
   "id": "d4a11a29",
   "metadata": {},
   "source": [
    "# **STATISTICS** : TP Données météo\n",
    "\n",
    "Thomas Dos, Gauthier Meffe, Noa Chaze, Lisa Escaron "
   ]
  },
  {
   "cell_type": "markdown",
   "id": "c1a39359",
   "metadata": {},
   "source": [
    "On récupère le jeu de données météo : "
   ]
  },
  {
   "cell_type": "code",
   "execution_count": null,
   "id": "f38c9b5e",
   "metadata": {
    "vscode": {
     "languageId": "r"
    }
   },
   "outputs": [],
   "source": [
    "dataframe <- read.csv(file = \"donnees_meteo_synop.csv\", header = TRUE, sep = \";\")"
   ]
  },
  {
   "cell_type": "code",
   "execution_count": null,
   "id": "5758bab6",
   "metadata": {
    "vscode": {
     "languageId": "r"
    }
   },
   "outputs": [
    {
     "data": {
      "text/html": [
       "<table class=\"dataframe\">\n",
       "<caption>A data.frame: 6 × 82</caption>\n",
       "<thead>\n",
       "\t<tr><th></th><th scope=col>ID.OMM.station</th><th scope=col>Date</th><th scope=col>Pression.au.niveau.mer</th><th scope=col>Variation.de.pression.en.3.heures</th><th scope=col>Type.de.tendance.barométrique</th><th scope=col>Direction.du.vent.moyen.10.mn</th><th scope=col>Vitesse.du.vent.moyen.10.mn</th><th scope=col>Température</th><th scope=col>Point.de.rosée</th><th scope=col>Humidité</th><th scope=col>⋯</th><th scope=col>Altitude</th><th scope=col>communes..name.</th><th scope=col>communes..code.</th><th scope=col>EPCI..name.</th><th scope=col>EPCI..code.</th><th scope=col>department..name.</th><th scope=col>department..code.</th><th scope=col>region..name.</th><th scope=col>region..code.</th><th scope=col>mois_de_l_annee</th></tr>\n",
       "\t<tr><th></th><th scope=col>&lt;int&gt;</th><th scope=col>&lt;chr&gt;</th><th scope=col>&lt;int&gt;</th><th scope=col>&lt;dbl&gt;</th><th scope=col>&lt;int&gt;</th><th scope=col>&lt;int&gt;</th><th scope=col>&lt;dbl&gt;</th><th scope=col>&lt;dbl&gt;</th><th scope=col>&lt;dbl&gt;</th><th scope=col>&lt;int&gt;</th><th scope=col>⋯</th><th scope=col>&lt;int&gt;</th><th scope=col>&lt;chr&gt;</th><th scope=col>&lt;chr&gt;</th><th scope=col>&lt;chr&gt;</th><th scope=col>&lt;int&gt;</th><th scope=col>&lt;chr&gt;</th><th scope=col>&lt;chr&gt;</th><th scope=col>&lt;chr&gt;</th><th scope=col>&lt;int&gt;</th><th scope=col>&lt;int&gt;</th></tr>\n",
       "</thead>\n",
       "<tbody>\n",
       "\t<tr><th scope=row>1</th><td> 7181</td><td>2016-07-12T11:00:00+02:00</td><td>101410</td><td> -30</td><td> 8</td><td>230</td><td> 2.9</td><td>293.35</td><td>286.55</td><td>65</td><td>⋯</td><td>336</td><td>Thuilley-aux-Groseilles</td><td>54523</td><td>CC du Pays de Colombey et du Sud Toulois</td><td>245400510</td><td>Meurthe-et-Moselle</td><td>54 </td><td>Grand Est              </td><td>44</td><td> 7</td></tr>\n",
       "\t<tr><th scope=row>2</th><td>81405</td><td>2017-01-08T07:00:00+01:00</td><td>101140</td><td>-140</td><td> 8</td><td>240</td><td> 0.5</td><td>297.25</td><td>296.25</td><td>94</td><td>⋯</td><td>  4</td><td>Matoury                </td><td>97307</td><td>CA du Centre Littoral                   </td><td>249730045</td><td>Guyane            </td><td>973</td><td>Guyane                 </td><td> 3</td><td> 1</td></tr>\n",
       "\t<tr><th scope=row>3</th><td> 7627</td><td>2017-01-08T13:00:00+01:00</td><td>103380</td><td> -40</td><td> 8</td><td> 30</td><td> 2.1</td><td>277.55</td><td>269.75</td><td>57</td><td>⋯</td><td>414</td><td>Lorp-Sentaraille       </td><td>09289</td><td>CC Couserans-Pyrénées                   </td><td>200067940</td><td>Ariège            </td><td>09 </td><td>Occitanie              </td><td>76</td><td> 1</td></tr>\n",
       "\t<tr><th scope=row>4</th><td>78894</td><td>2017-01-09T13:00:00+01:00</td><td>101760</td><td>   0</td><td>NA</td><td>100</td><td> 2.3</td><td>298.15</td><td>291.35</td><td>66</td><td>⋯</td><td> 44</td><td>                       </td><td>     </td><td>                                        </td><td>       NA</td><td>                  </td><td>   </td><td>                       </td><td>NA</td><td> 1</td></tr>\n",
       "\t<tr><th scope=row>5</th><td> 7020</td><td>2017-01-12T13:00:00+01:00</td><td>100580</td><td>-710</td><td> 8</td><td>210</td><td>11.9</td><td>282.05</td><td>280.15</td><td>88</td><td>⋯</td><td>  6</td><td>La Hague               </td><td>50041</td><td>CA du Cotentin                          </td><td>200067205</td><td>Manche            </td><td>50 </td><td>Normandie              </td><td>28</td><td> 1</td></tr>\n",
       "\t<tr><th scope=row>6</th><td> 7280</td><td>2017-12-23T13:00:00+01:00</td><td>103830</td><td> -10</td><td> 0</td><td> 10</td><td> 2.7</td><td>280.75</td><td>278.35</td><td>85</td><td>⋯</td><td>219</td><td>Ouges                  </td><td>21473</td><td>Dijon Métropole                         </td><td>242100410</td><td>Côte-d'Or         </td><td>21 </td><td>Bourgogne-Franche-Comté</td><td>27</td><td>12</td></tr>\n",
       "</tbody>\n",
       "</table>\n"
      ],
      "text/latex": [
       "A data.frame: 6 × 82\n",
       "\\begin{tabular}{r|lllllllllllllllllllll}\n",
       "  & ID.OMM.station & Date & Pression.au.niveau.mer & Variation.de.pression.en.3.heures & Type.de.tendance.barométrique & Direction.du.vent.moyen.10.mn & Vitesse.du.vent.moyen.10.mn & Température & Point.de.rosée & Humidité & ⋯ & Altitude & communes..name. & communes..code. & EPCI..name. & EPCI..code. & department..name. & department..code. & region..name. & region..code. & mois\\_de\\_l\\_annee\\\\\n",
       "  & <int> & <chr> & <int> & <dbl> & <int> & <int> & <dbl> & <dbl> & <dbl> & <int> & ⋯ & <int> & <chr> & <chr> & <chr> & <int> & <chr> & <chr> & <chr> & <int> & <int>\\\\\n",
       "\\hline\n",
       "\t1 &  7181 & 2016-07-12T11:00:00+02:00 & 101410 &  -30 &  8 & 230 &  2.9 & 293.35 & 286.55 & 65 & ⋯ & 336 & Thuilley-aux-Groseilles & 54523 & CC du Pays de Colombey et du Sud Toulois & 245400510 & Meurthe-et-Moselle & 54  & Grand Est               & 44 &  7\\\\\n",
       "\t2 & 81405 & 2017-01-08T07:00:00+01:00 & 101140 & -140 &  8 & 240 &  0.5 & 297.25 & 296.25 & 94 & ⋯ &   4 & Matoury                 & 97307 & CA du Centre Littoral                    & 249730045 & Guyane             & 973 & Guyane                  &  3 &  1\\\\\n",
       "\t3 &  7627 & 2017-01-08T13:00:00+01:00 & 103380 &  -40 &  8 &  30 &  2.1 & 277.55 & 269.75 & 57 & ⋯ & 414 & Lorp-Sentaraille        & 09289 & CC Couserans-Pyrénées                    & 200067940 & Ariège             & 09  & Occitanie               & 76 &  1\\\\\n",
       "\t4 & 78894 & 2017-01-09T13:00:00+01:00 & 101760 &    0 & NA & 100 &  2.3 & 298.15 & 291.35 & 66 & ⋯ &  44 &                         &       &                                          &        NA &                    &     &                         & NA &  1\\\\\n",
       "\t5 &  7020 & 2017-01-12T13:00:00+01:00 & 100580 & -710 &  8 & 210 & 11.9 & 282.05 & 280.15 & 88 & ⋯ &   6 & La Hague                & 50041 & CA du Cotentin                           & 200067205 & Manche             & 50  & Normandie               & 28 &  1\\\\\n",
       "\t6 &  7280 & 2017-12-23T13:00:00+01:00 & 103830 &  -10 &  0 &  10 &  2.7 & 280.75 & 278.35 & 85 & ⋯ & 219 & Ouges                   & 21473 & Dijon Métropole                          & 242100410 & Côte-d'Or          & 21  & Bourgogne-Franche-Comté & 27 & 12\\\\\n",
       "\\end{tabular}\n"
      ],
      "text/markdown": [
       "\n",
       "A data.frame: 6 × 82\n",
       "\n",
       "| <!--/--> | ID.OMM.station &lt;int&gt; | Date &lt;chr&gt; | Pression.au.niveau.mer &lt;int&gt; | Variation.de.pression.en.3.heures &lt;dbl&gt; | Type.de.tendance.barométrique &lt;int&gt; | Direction.du.vent.moyen.10.mn &lt;int&gt; | Vitesse.du.vent.moyen.10.mn &lt;dbl&gt; | Température &lt;dbl&gt; | Point.de.rosée &lt;dbl&gt; | Humidité &lt;int&gt; | ⋯ ⋯ | Altitude &lt;int&gt; | communes..name. &lt;chr&gt; | communes..code. &lt;chr&gt; | EPCI..name. &lt;chr&gt; | EPCI..code. &lt;int&gt; | department..name. &lt;chr&gt; | department..code. &lt;chr&gt; | region..name. &lt;chr&gt; | region..code. &lt;int&gt; | mois_de_l_annee &lt;int&gt; |\n",
       "|---|---|---|---|---|---|---|---|---|---|---|---|---|---|---|---|---|---|---|---|---|---|\n",
       "| 1 |  7181 | 2016-07-12T11:00:00+02:00 | 101410 |  -30 |  8 | 230 |  2.9 | 293.35 | 286.55 | 65 | ⋯ | 336 | Thuilley-aux-Groseilles | 54523 | CC du Pays de Colombey et du Sud Toulois | 245400510 | Meurthe-et-Moselle | 54  | Grand Est               | 44 |  7 |\n",
       "| 2 | 81405 | 2017-01-08T07:00:00+01:00 | 101140 | -140 |  8 | 240 |  0.5 | 297.25 | 296.25 | 94 | ⋯ |   4 | Matoury                 | 97307 | CA du Centre Littoral                    | 249730045 | Guyane             | 973 | Guyane                  |  3 |  1 |\n",
       "| 3 |  7627 | 2017-01-08T13:00:00+01:00 | 103380 |  -40 |  8 |  30 |  2.1 | 277.55 | 269.75 | 57 | ⋯ | 414 | Lorp-Sentaraille        | 09289 | CC Couserans-Pyrénées                    | 200067940 | Ariège             | 09  | Occitanie               | 76 |  1 |\n",
       "| 4 | 78894 | 2017-01-09T13:00:00+01:00 | 101760 |    0 | NA | 100 |  2.3 | 298.15 | 291.35 | 66 | ⋯ |  44 | <!----> | <!----> | <!----> |        NA | <!----> | <!----> | <!----> | NA |  1 |\n",
       "| 5 |  7020 | 2017-01-12T13:00:00+01:00 | 100580 | -710 |  8 | 210 | 11.9 | 282.05 | 280.15 | 88 | ⋯ |   6 | La Hague                | 50041 | CA du Cotentin                           | 200067205 | Manche             | 50  | Normandie               | 28 |  1 |\n",
       "| 6 |  7280 | 2017-12-23T13:00:00+01:00 | 103830 |  -10 |  0 |  10 |  2.7 | 280.75 | 278.35 | 85 | ⋯ | 219 | Ouges                   | 21473 | Dijon Métropole                          | 242100410 | Côte-d'Or          | 21  | Bourgogne-Franche-Comté | 27 | 12 |\n",
       "\n"
      ],
      "text/plain": [
       "  ID.OMM.station Date                      Pression.au.niveau.mer\n",
       "1  7181          2016-07-12T11:00:00+02:00 101410                \n",
       "2 81405          2017-01-08T07:00:00+01:00 101140                \n",
       "3  7627          2017-01-08T13:00:00+01:00 103380                \n",
       "4 78894          2017-01-09T13:00:00+01:00 101760                \n",
       "5  7020          2017-01-12T13:00:00+01:00 100580                \n",
       "6  7280          2017-12-23T13:00:00+01:00 103830                \n",
       "  Variation.de.pression.en.3.heures Type.de.tendance.barométrique\n",
       "1  -30                               8                           \n",
       "2 -140                               8                           \n",
       "3  -40                               8                           \n",
       "4    0                              NA                           \n",
       "5 -710                               8                           \n",
       "6  -10                               0                           \n",
       "  Direction.du.vent.moyen.10.mn Vitesse.du.vent.moyen.10.mn Température\n",
       "1 230                            2.9                        293.35     \n",
       "2 240                            0.5                        297.25     \n",
       "3  30                            2.1                        277.55     \n",
       "4 100                            2.3                        298.15     \n",
       "5 210                           11.9                        282.05     \n",
       "6  10                            2.7                        280.75     \n",
       "  Point.de.rosée Humidité ⋯ Altitude communes..name.         communes..code.\n",
       "1 286.55         65       ⋯ 336      Thuilley-aux-Groseilles 54523          \n",
       "2 296.25         94       ⋯   4      Matoury                 97307          \n",
       "3 269.75         57       ⋯ 414      Lorp-Sentaraille        09289          \n",
       "4 291.35         66       ⋯  44                                             \n",
       "5 280.15         88       ⋯   6      La Hague                50041          \n",
       "6 278.35         85       ⋯ 219      Ouges                   21473          \n",
       "  EPCI..name.                              EPCI..code. department..name. \n",
       "1 CC du Pays de Colombey et du Sud Toulois 245400510   Meurthe-et-Moselle\n",
       "2 CA du Centre Littoral                    249730045   Guyane            \n",
       "3 CC Couserans-Pyrénées                    200067940   Ariège            \n",
       "4                                                 NA                     \n",
       "5 CA du Cotentin                           200067205   Manche            \n",
       "6 Dijon Métropole                          242100410   Côte-d'Or         \n",
       "  department..code. region..name.           region..code. mois_de_l_annee\n",
       "1 54                Grand Est               44             7             \n",
       "2 973               Guyane                   3             1             \n",
       "3 09                Occitanie               76             1             \n",
       "4                                           NA             1             \n",
       "5 50                Normandie               28             1             \n",
       "6 21                Bourgogne-Franche-Comté 27            12             "
      ]
     },
     "metadata": {},
     "output_type": "display_data"
    }
   ],
   "source": [
    "# Visualisation du format des données :\n",
    "head(dataframe)"
   ]
  }
 ],
 "metadata": {
  "kernelspec": {
   "display_name": "R",
   "language": "R",
   "name": "ir"
  },
  "language_info": {
   "codemirror_mode": "r",
   "file_extension": ".r",
   "mimetype": "text/x-r-source",
   "name": "R",
   "pygments_lexer": "r",
   "version": "4.3.1"
  }
 },
 "nbformat": 4,
 "nbformat_minor": 5
}
